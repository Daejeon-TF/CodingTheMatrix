{
 "cells": [
  {
   "cell_type": "markdown",
   "metadata": {},
   "source": [
    "# Chapter 3. 벡터"
   ]
  },
  {
   "cell_type": "markdown",
   "metadata": {},
   "source": [
    "# 3.1 벡터란 무엇인가?"
   ]
  },
  {
   "cell_type": "markdown",
   "metadata": {},
   "source": [
    "- 벡터란 단어는 \"운반하다\"라는 뜻의 라틴어에서 유래되었다. 이 용어는 어떤 것을 한 장소에서 다른 곳으로 이동하는 벡터의 방향성에 비롯된다."
   ]
  },
  {
   "cell_type": "markdown",
   "metadata": {},
   "source": [
    "### Definition 3.1.1\n",
    "- 4개의 실수를 원소로 가지는 벡터를 $\\mathbb{R}$상의 4-벡터라고 한다."
   ]
  },
  {
   "cell_type": "markdown",
   "metadata": {},
   "source": [
    "### Definitino 3.1.2\n",
    "- 필드 F와 양의 정수 n에 대해, F에 속하는 n개의 원소를 가지는 벡터를 **F상의 n-벡터**라고 한다. F상의 n-벡터들의 집합은 $F^n$으로 나타낸다.\n",
    "- 예를 들어, $\\mathbb{R}$상의 4-벡터들의 집합을 $\\mathbb{R}^4$라고 쓴다."
   ]
  },
  {
   "cell_type": "markdown",
   "metadata": {},
   "source": [
    "# 3.2 벡터는 함수이다"
   ]
  },
  {
   "cell_type": "markdown",
   "metadata": {},
   "source": [
    "- 일단 벡터는 함수란 해것을 받아들이게 되면 많은 응용 분야가 보일 것이다."
   ]
  },
  {
   "cell_type": "markdown",
   "metadata": {},
   "source": [
    "### Definition 3.1.3\n",
    "- 유한 집합 D와 필드 F에 대해, F상의 D-벡터는 D에서 F로의 함수이다."
   ]
  },
  {
   "cell_type": "markdown",
   "metadata": {},
   "source": [
    "## 3.2.1 파이썬의 딕셔너리를 이용한 벡터 표현"
   ]
  },
  {
   "cell_type": "markdown",
   "metadata": {},
   "source": [
    "- 파이썬의 딕셔너리는 유한한 정의역을 가지는 함수를 표현하는데 편리하다.\n",
    "- 스파스(sparse)표현은 0인 키-값 쌍을 생략하는 방식이다."
   ]
  },
  {
   "cell_type": "markdown",
   "metadata": {},
   "source": [
    "## 3.2.2 Sparsity"
   ]
  },
  {
   "cell_type": "markdown",
   "metadata": {},
   "source": [
    "- 대부분의 원소값이 영인 벡터를 스파스(sparse)벡터라고 한다.\n",
    "- 만약 영이 아닌 원소의 수가 최대 k개인 벡터는 k-스파스라고 한다.\n",
    "- 주어진 벡터와 파라미터 k에 대해 \"가장 가까운(closet)\" k-스파스 벡터를 찾는 계산 문제를 다룰 것이다.\n",
    "- 행렬이 스파스함을 나타내는 또 다른 형태인 로우 랭크(낮은 랭크)(low-rank)에 대해 알아볼 것이다. 로우-랭크 행렬은 데이터를 설명하는 요인을 찾기 위해 데이터를 분석하는 데 사용된다."
   ]
  },
  {
   "cell_type": "markdown",
   "metadata": {},
   "source": [
    "## 3.3 벡터로 무엇을 표현할 수 있는가?"
   ]
  },
  {
   "cell_type": "markdown",
   "metadata": {},
   "source": [
    "### 이진 문자열(binary string)\n",
    "- 어떤 암호 체계의 비밀키는 GF(2)상의 n-벡터, [1,0,1,1,1,0,1]에 의해 표현될 수 있다."
   ]
  },
  {
   "cell_type": "markdown",
   "metadata": {},
   "source": [
    "### 속성(attribute)\n",
    "- 학습 이론에서 각 항목이 속성 이름과 속성값의 컬렉션으로 표현되는 데이터 집합에 대해 고려해 볼 것이다. 이 컬렉션은 속성 이름을 대응하는 값에 매핑하는 함수로 표현된다.\n",
    "- Ex) Jane = {'age':30, 'education level':16, 'income':85000}"
   ]
  },
  {
   "cell_type": "markdown",
   "metadata": {},
   "source": [
    "### 시스템 상태\n",
    "- 진화하는 시스템의 다른 상태를 나타내는 함수/벡터에 대해 알아볼 것이다."
   ]
  },
  {
   "cell_type": "markdown",
   "metadata": {},
   "source": [
    "### 확률 분포\n",
    "- 유한한 확률 분포는 유한한 정의역에서 실수로의 함수이다. 따라서 확률분포는 벡터로 간주할 수 있다.\n",
    "- Ex) {1:1/6, 2:1/6, 3:1/6, 4:1/6, 5:1/6, 6:1/6}"
   ]
  },
  {
   "cell_type": "markdown",
   "metadata": {},
   "source": [
    "### 이미지\n",
    "- 흑배 이미지는 쌍들의 집합{i,j}에서 실수로의 함수로 볼 수 있고, 따라서 벡터로 볼 수 있다."
   ]
  },
  {
   "cell_type": "markdown",
   "metadata": {},
   "source": [
    "### 공간상의 점\n",
    "- 벡터를 사용하여 평면, 3차원, 그리고 더 높은 차원의 공간에 있는 점들을 나타낸다."
   ]
  },
  {
   "cell_type": "markdown",
   "metadata": {},
   "source": [
    "### Task 3.3.2\n",
    "여기서는 파이썬의 리스트를 사용하여 벡터를 표현해 볼 것이다. 파이썬에서, 변수 L에 2-원소 리스트들로 구성된 리스트를 할당해 보자. Task2.4.1에서 설명된 plot모듈을 사용하여 이 2-벡터들을 그래프로 그려보자.\n",
    "="
   ]
  },
  {
   "cell_type": "code",
   "execution_count": 1,
   "metadata": {},
   "outputs": [
    {
     "data": {
      "image/png": "[encoded data removed]",
      "text/plain": [
       "<matplotlib.figure.Figure at 0x10e95ae80>"
      ]
     },
     "metadata": {},
     "output_type": "display_data"
    }
   ],
   "source": [
    "from plotting_matplotlib import plot\n",
    "\n",
    "L = [[2, 2], [3, 2], [1.75, 1], [2, 1], [2.25, 1], [2.5, 1], [2.75, 1], [3, 1], [3.25, 1]]\n",
    "plot(L, 4)"
   ]
  },
  {
   "cell_type": "markdown",
   "metadata": {},
   "source": [
    "# 3.4 벡터 덧셈"
   ]
  },
  {
   "cell_type": "markdown",
   "metadata": {},
   "source": [
    "- 벡터의 개념은 기학학에서 유래되었고, 기본적인 벡터 연산들은 기하학적 관점에서 대부분 쉽게 이유를 설명할 수 있다."
   ]
  },
  {
   "cell_type": "markdown",
   "metadata": {},
   "source": [
    "## 3.4.1 평행이동과 벡터 덧셈\n",
    "- 어떤 벡터를 입력 벡터에 더하는 함수 $f(v)=v_0+v$에 의해 평행이동을 이룰 수 있다.\n",
    "- $v_0$와 같은 벡터는 평행이동에 대응하므로, 무엇인가를 \"운반하는\" 것으로 생각할 수 있다.\n",
    "- 모든 필드 F는 영을 원소로 가진다. 따라서 F상의 D-벡터들로 구성된 집합 $F^D$는 필연적으로 영벡터를 가진다. 영벡터는 모든 원소의 값이 0인 벡터를 말한다."
   ]
  },
  {
   "cell_type": "markdown",
   "metadata": {},
   "source": [
    "### Definition 3.4.1\n",
    "- n-벡터들의 덧셈은 대응하는 원솓ㄹ의 덧셈으로 정의된다.\n",
    "\n",
    "$[u_1, u_2, ..., u_n]+[v_1, v_2, ..., v_n]=[u_1+v_1, u_2+v_2, ..., u_n+v_n]$"
   ]
  },
  {
   "cell_type": "code",
   "execution_count": 2,
   "metadata": {
    "collapsed": true
   },
   "outputs": [],
   "source": [
    "def add(v, w):\n",
    "    return [v[0]+w[0], v[1]+w[1]]"
   ]
  },
  {
   "cell_type": "markdown",
   "metadata": {},
   "source": [
    "### Quiz 3.4.2\n",
    "\"동쪽으로 1마일, 북쪽으로 2마일 이동하라\"는 것을 벡터 덧셈을 사용하여 2-벡터에서 2-벡터로의 함수로 나타내는 평행이동을 작성해 보자. 그 다음에 이 함수를 벡터 [4,4]와 [-4, -4]에 적용한 결과를 보여주자."
   ]
  },
  {
   "cell_type": "markdown",
   "metadata": {},
   "source": [
    "A) \n",
    "- $f(v)=[1,2]+v$\n",
    "- $f(4,4)=[5,7]$\n",
    "- $f(-4,-4)=[-3,-2]$"
   ]
  },
  {
   "cell_type": "markdown",
   "metadata": {},
   "source": [
    "### Task 3.4.3\n",
    "Task 3.3.2에서 정의된 리스트 L을 생각해 보자. 2-벡터 덧셈을 정의하는 프로시저를 작성하고, 컴프리헨션을 사용하여 [1,2]를 L의 각각에 더하여 얻어진 점들을 그래프로 그려보자."
   ]
  },
  {
   "cell_type": "code",
   "execution_count": 3,
   "metadata": {},
   "outputs": [
    {
     "data": {
      "image/png": "[encoded data removed]",
      "text/plain": [
       "<matplotlib.figure.Figure at 0x1102c7240>"
      ]
     },
     "metadata": {},
     "output_type": "display_data"
    }
   ],
   "source": [
    "plot([add([1,2], v) for v in L], 4)"
   ]
  },
  {
   "cell_type": "markdown",
   "metadata": {},
   "source": [
    "### Quiz 3.4.4\n",
    "n-벡터들을 n-원소 리스트들로 나타낸다고 가정해 보자. 이렇게 나타낸 두 개의 벡터들의 합을 계산하는 프로시저, addn을 작성해 보자."
   ]
  },
  {
   "cell_type": "code",
   "execution_count": 4,
   "metadata": {
    "collapsed": true
   },
   "outputs": [],
   "source": [
    "def addn(v, w): return [(v0, w0) for v0, w0 in zip(v, w)]"
   ]
  },
  {
   "cell_type": "markdown",
   "metadata": {},
   "source": [
    "### 3.4.2 벡터 덧셈의 결합성(associativity)과 교환성(commutativity)"
   ]
  },
  {
   "cell_type": "markdown",
   "metadata": {},
   "source": [
    "### Proposition 3.4.5 (벡터 덧셈의 결합성과 교환성)\n",
    "- 임의의 벡터 u, v, w에 대해 다음이 성립한다.\n",
    "- $(u+v)+w=u+(v+w)$\n",
    "- $u+v=v+u$"
   ]
  },
  {
   "cell_type": "markdown",
   "metadata": {},
   "source": [
    "### 3.4.3 벡터를 화살표로 표현하기\n",
    "- $\\mathbb{R}$상의 n-벡터들은 $\\mathbb{R}^n$의 화살표로 보여줄 수 있다.\n",
    "- $u+v$는 u에 대응하는 평행이동과 v에 대응하는 평행이동이 합쳐진 것이다."
   ]
  },
  {
   "cell_type": "markdown",
   "metadata": {},
   "source": [
    "### Exersice 3.4.6\n",
    "두 개의 서로 다른 화살표를 사용하여 벡터 [-2,4]를 나타내는 그림을 그려 보자."
   ]
  },
  {
   "cell_type": "code",
   "execution_count": 5,
   "metadata": {},
   "outputs": [
    {
     "data": {
      "image/png": "[encoded data removed]",
      "text/plain": [
       "<matplotlib.figure.Figure at 0x110338080>"
      ]
     },
     "metadata": {},
     "output_type": "display_data"
    }
   ],
   "source": [
    "from plotting_matplotlib import plot_vec\n",
    "\n",
    "plot_vec([-2,4], scale=8, show=False)\n",
    "plot_vec([-2,4],tail=[-1, -1], scale=8)"
   ]
  },
  {
   "cell_type": "markdown",
   "metadata": {},
   "source": [
    "### Exersice 3.4.7\n",
    "[-2,4]+[1,2]을 보여주는 그림을 그려 보자."
   ]
  },
  {
   "cell_type": "code",
   "execution_count": 6,
   "metadata": {},
   "outputs": [
    {
     "data": {
      "image/png": "[encoded data removed]",
      "text/plain": [
       "<matplotlib.figure.Figure at 0x11052b8d0>"
      ]
     },
     "metadata": {},
     "output_type": "display_data"
    }
   ],
   "source": [
    "plot_vec([-2,4], scale=8, show=False)\n",
    "plot_vec([1,2],tail=[-2,4], scale=8)"
   ]
  },
  {
   "cell_type": "markdown",
   "metadata": {},
   "source": [
    "# 3.5 스칼라-벡터 곱셈"
   ]
  },
  {
   "cell_type": "markdown",
   "metadata": {},
   "source": [
    "- 스칼라-벡터 곱(scalar-vector multiplication)은 벡터를 스켈링한다.\n",
    "- 벡터에서 필드 원소(예를 들어, 숫자)는 스칼라라고 불리며, 그 이유는 곱셈을 통해 벡터를 스켈링하는 데 사용될 수 있기 때문이다."
   ]
  },
  {
   "cell_type": "markdown",
   "metadata": {},
   "source": [
    "### Definition 3.5.1\n",
    "- 벡터 $v$와 스칼라 $\\alpha$의 곱셈은 $v$의 원소 각각을 $\\alpha$와 곱하는 것으로 정의된다.\n",
    "\n",
    "$\\quad \\quad \\quad \\alpha [v_1, v_2, ..., v_n] = [\\alpha v_1, \\alpha v_2, ..., \\alpha v_n]$\n",
    "\n",
    "- 스칼라-벡터 곱셈은 벡터 덧셈보다 우선순위가 높다."
   ]
  },
  {
   "cell_type": "markdown",
   "metadata": {},
   "source": [
    "### Quiz 3.5.3\n",
    "n-벡터들을 n-원소 리스트들로 나타낸다고 해 보자. 벡터 v를 스칼라 alpha와 곱하는 프로시저, scalar_vector_mult(alpha, v)를 작성해 보자."
   ]
  },
  {
   "cell_type": "code",
   "execution_count": 7,
   "metadata": {
    "collapsed": true
   },
   "outputs": [],
   "source": [
    "def scalar_vector_mult(alpha, v): return [alpha*v0 for v0 in v]"
   ]
  },
  {
   "cell_type": "markdown",
   "metadata": {},
   "source": [
    "### Task 3.5.4\n",
    "L 내의 벡터들을 0.5만큼 스케일링한 결과와 -0.5만틈 스케일링한 결과를 그래프로 그려보자"
   ]
  },
  {
   "cell_type": "code",
   "execution_count": 9,
   "metadata": {},
   "outputs": [
    {
     "data": {
      "image/png": "[encoded data removed]",
      "text/plain": [
       "<matplotlib.figure.Figure at 0x11037e080>"
      ]
     },
     "metadata": {},
     "output_type": "display_data"
    }
   ],
   "source": [
    "plot([scalar_vector_mult(0.5, l) for l in L])"
   ]
  },
  {
   "cell_type": "code",
   "execution_count": 12,
   "metadata": {},
   "outputs": [
    {
     "data": {
      "image/png": "[encoded data removed]",
      "text/plain": [
       "<matplotlib.figure.Figure at 0x110724f28>"
      ]
     },
     "metadata": {},
     "output_type": "display_data"
    }
   ],
   "source": [
    "plot([scalar_vector_mult(-0.5, l) for l in L])"
   ]
  },
  {
   "cell_type": "markdown",
   "metadata": {},
   "source": [
    "## 3.5.1 화살표 스케일링하기"
   ]
  },
  {
   "cell_type": "markdown",
   "metadata": {},
   "source": [
    "- $\\mathbb R$상의 벡터를 양의 실수로 스케일링하는 것은 벡터의 방향을 바꾸지 않고 대응하는 화살표의 길이를 변경한다.\n",
    "- 벡터를 음의 실수로 곱하는 것은 그 벡터의 모든 원소값의 부호를 바꾸는 것으로 화살표의 방향을 반대로 하는 것이다."
   ]
  },
  {
   "cell_type": "markdown",
   "metadata": {},
   "source": [
    "## 3.5.2 스칼라-벡터 곱셈의 결합성"
   ]
  },
  {
   "cell_type": "markdown",
   "metadata": {},
   "source": [
    "### Proposition 3.5.5 (스칼라-벡터 곱셈의 결합성)\n",
    "- $\\alpha (\\beta v) = (\\alpha \\beta)v$"
   ]
  },
  {
   "cell_type": "markdown",
   "metadata": {},
   "source": [
    "## 3.5.3 원점을 지나는 선분"
   ]
  },
  {
   "cell_type": "markdown",
   "metadata": {},
   "source": [
    "- 아래 점들의 집합은 원점과 $v$사이의 선분을 형성한다.\n",
    "\n",
    "$\\quad \\quad \\quad \\{ \\alpha v : \\alpha \\in \\mathbb R, 0 \\le \\alpha \\le 1 \\}$"
   ]
  },
  {
   "cell_type": "code",
   "execution_count": 14,
   "metadata": {},
   "outputs": [
    {
     "data": {
      "image/png": "[encoded data removed]",
      "text/plain": [
       "<matplotlib.figure.Figure at 0x110761cf8>"
      ]
     },
     "metadata": {},
     "output_type": "display_data"
    }
   ],
   "source": [
    "v = [3, 2]\n",
    "plot([scalar_vector_mult(i/10, v) for i in range(11)], 5)"
   ]
  },
  {
   "cell_type": "code",
   "execution_count": 15,
   "metadata": {},
   "outputs": [
    {
     "data": {
      "image/png": "[encoded data removed]",
      "text/plain": [
       "<matplotlib.figure.Figure at 0x110761978>"
      ]
     },
     "metadata": {},
     "output_type": "display_data"
    }
   ],
   "source": [
    "plot([scalar_vector_mult(i/100, v) for i in range(101)], 5)"
   ]
  },
  {
   "cell_type": "markdown",
   "metadata": {},
   "source": [
    "## 3.5.4 원점을 지나는 직선"
   ]
  },
  {
   "cell_type": "markdown",
   "metadata": {},
   "source": [
    "- 아래 점들의 집합은 원점과 $v$를 지나는 직선을 형성한다\n",
    "\n",
    "$\\quad \\quad \\quad \\{ \\alpha v : \\alpha \\in \\mathbb R\\}$"
   ]
  },
  {
   "cell_type": "markdown",
   "metadata": {},
   "source": [
    "# 3.6 벡터 덧셈과 스칼라 곱셈 결합하기"
   ]
  },
  {
   "cell_type": "markdown",
   "metadata": {},
   "source": [
    "## 3.6.1 원점을 지나지 않는 선분과 직선"
   ]
  },
  {
   "cell_type": "markdown",
   "metadata": {},
   "source": [
    "- 아래의 점들의 집합은 원점을 지나지 않는 선분을 형성한다.\n",
    "\n",
    "$\\quad \\quad \\quad \\{ \\alpha v + v_0: \\alpha \\in \\mathbb R, 0 \\le \\alpha \\le 1 \\}$"
   ]
  },
  {
   "cell_type": "code",
   "execution_count": 17,
   "metadata": {},
   "outputs": [
    {
     "data": {
      "image/png": "[encoded data removed]",
      "text/plain": [
       "<matplotlib.figure.Figure at 0x1108fe898>"
      ]
     },
     "metadata": {},
     "output_type": "display_data"
    }
   ],
   "source": [
    "plot([add(scalar_vector_mult(i/100, v), [0.5, 1]) for i in range(101)])"
   ]
  },
  {
   "cell_type": "markdown",
   "metadata": {},
   "source": [
    "- 아래의 점들의 집합은 원점을 지나지 않는 직선을 형성한다.\n",
    "\n",
    "$\\quad \\quad \\quad \\{ \\alpha v + v_0: \\alpha \\in \\mathbb R\\}$"
   ]
  },
  {
   "cell_type": "markdown",
   "metadata": {},
   "source": [
    "### Exercise 3.6.1\n",
    "주어진 $\\mathbb R^2$상의 한 쌍의 점 u=[2,3], v=[5,7]에 대해, 원점에서 어떤 점 w까지의 선분을 평행이동하여 u-v선분을 얻을 수 있는 그런 점 w는 무엇인가? 양쪽 끝점에 적용되는 평행이동 벡터는 무엇인가?"
   ]
  },
  {
   "cell_type": "markdown",
   "metadata": {},
   "source": [
    "A) \n",
    "- w = v-u = [3, 4]\n",
    "- 평행이동 벡터 = u = [2, 3]"
   ]
  },
  {
   "cell_type": "markdown",
   "metadata": {},
   "source": [
    "### Exercise 3.6.2\n",
    "주어진 $\\mathbb R^2$상의 한 쌍의 점 u=[1,4], v=[6,3]에 대해, 이 두 점 사이의 선분을 형성하는 점들의 집합을 구하는 수학적 표현식을 작성해 보자."
   ]
  },
  {
   "cell_type": "markdown",
   "metadata": {},
   "source": [
    "A) $\\{ \\alpha w + u: \\alpha \\in \\mathbb R, w=[5,-1]\\}$"
   ]
  },
  {
   "cell_type": "markdown",
   "metadata": {},
   "source": [
    "## 3.6.2 스칼라-벡터 곱셈과 벡터 덧셈의 분배 법칙"
   ]
  },
  {
   "cell_type": "markdown",
   "metadata": {},
   "source": [
    "### Proposition 3.6.3 (벡터 덧셈에 대한 스칼라-벡터 곱의 분배)\n",
    "- $\\alpha(u+v)=\\alpha u + \\alpha v$"
   ]
  },
  {
   "cell_type": "markdown",
   "metadata": {},
   "source": [
    "### Proposition 3.6.5 (스칼라 덧셈에 대한 스칼라-벡터 곱의 분배)\n",
    "- $(\\alpha + \\beta)u = \\alpha u + \\beta u$"
   ]
  },
  {
   "cell_type": "markdown",
   "metadata": {},
   "source": [
    "### Problem 3.6.3\n",
    "Proposition 3.6.5를 증명하여라."
   ]
  },
  {
   "cell_type": "markdown",
   "metadata": {},
   "source": [
    "A) 정의역 D의 각 원소 k에 대해 (a+b)u의 엔트리는 (a+b)u[k]이다. au+bu의 엔트리는 au[k]+bu[k]이다. 필드의 분배 법칙에 의해, (a+b)u[k]=au[k]+bu[k] 이다."
   ]
  },
  {
   "cell_type": "markdown",
   "metadata": {},
   "source": [
    "### 3.6.3 블록겹합(Convex combination) 들여다 보기\n",
    "- $\\alpha u+\\beta v$ 성분은 $v$와 $u$의 블록겹합들의 집합으로 구성된다.\n",
    "\n",
    "$\\quad \\quad \\quad \\{\\alpha u+\\beta v: \\alpha, \\beta \\in \\mathbb R, \\alpha + \\beta = 1 \\}$"
   ]
  },
  {
   "cell_type": "markdown",
   "metadata": {},
   "source": [
    "### Proposition 3.6.7\n",
    "- $u-v$ 선분은 $u$와 $v$의 블록결합들의 집합으로 구성된다."
   ]
  },
  {
   "cell_type": "markdown",
   "metadata": {},
   "source": [
    "### Task 3.6.9\n",
    "파이썬 프로시저, segment(pt1, pt2)를 작성해 보자. 이 프로시저는 2-원소 리스트들로 표현된 주어진 점들에 대해 이 점들을 양 끝점으로 하는 선분을 따라 일정한 간격으로 배치된 100개의 점으로 구성된 리스트를 리턴한다."
   ]
  },
  {
   "cell_type": "code",
   "execution_count": 19,
   "metadata": {},
   "outputs": [
    {
     "data": {
      "image/png": "[encoded data removed]",
      "text/plain": [
       "<matplotlib.figure.Figure at 0x110880fd0>"
      ]
     },
     "metadata": {},
     "output_type": "display_data"
    }
   ],
   "source": [
    "def segment(pt1, pt2): return [add(scalar_vector_mult(a/100, pt1), scalar_vector_mult(1-a/100, pt2)) for a in range(101)]\n",
    "\n",
    "pt1 = [3.5, 3]\n",
    "pt2 = [0.5, 1]\n",
    "plot(segment(pt1, pt2))"
   ]
  },
  {
   "cell_type": "markdown",
   "metadata": {},
   "source": [
    "### 3.6.4 아핀 결합(Affine combination) 들여다 보기\n",
    "- $\\alpha u+\\beta v$ 직선은 $v$와 $u$의 아핀겹합들의 집합으로 구성된다.\n",
    "\n",
    "$\\quad \\quad \\quad \\{\\alpha u+\\beta v: \\alpha, \\in \\mathbb R, \\beta \\in R, \\alpha + \\beta = 1 \\}$"
   ]
  },
  {
   "cell_type": "markdown",
   "metadata": {},
   "source": [
    "### Hypothesis 3.6.11\n",
    "- $u$와 $v$를 지나는 직선은 $u$와 $v$의 아핀결합들으 집합으로 구성된다."
   ]
  }
 ],
 "metadata": {
  "kernelspec": {
   "display_name": "Python 3",
   "language": "python",
   "name": "python3"
  },
  "language_info": {
   "codemirror_mode": {
    "name": "ipython",
    "version": 3
   },
   "file_extension": ".py",
   "mimetype": "text/x-python",
   "name": "python",
   "nbconvert_exporter": "python",
   "pygments_lexer": "ipython3",
   "version": "3.6.0"
  }
 },
 "nbformat": 4,
 "nbformat_minor": 2
}
