{
 "cells": [
  {
   "cell_type": "code",
   "execution_count": 2,
   "metadata": {
    "collapsed": true
   },
   "outputs": [],
   "source": [
    "#Lab 1 by YK"
   ]
  },
  {
   "cell_type": "code",
   "execution_count": 3,
   "metadata": {
    "collapsed": false
   },
   "outputs": [],
   "source": [
    "##Task 1.5.1: 파이썬을 사용하여 1주는 몇 분인지 계산 하여라\n",
    "#1주는 7일,\n",
    "#1일은 24시간\n",
    "#1시간은 60분\n",
    "\n"
   ]
  },
  {
   "cell_type": "code",
   "execution_count": 4,
   "metadata": {
    "collapsed": false
   },
   "outputs": [],
   "source": [
    "##Task 1.5.2: 파이썬을 사용하여 모듈 연산 %를 사용 하지 않고 2304811을 47로 나눈 나머지를 구하라 (힌트 //)\n",
    "# 2304811 / 47\n",
    "# 2304811 // 47\n",
    "\n",
    "# 2304811 % 47"
   ]
  },
  {
   "cell_type": "code",
   "execution_count": 5,
   "metadata": {
    "collapsed": false
   },
   "outputs": [],
   "source": [
    "## Taks 1.5.3: 673과 909의 합이 3을 나누어지는지 알아보는 불리언 표현식을 입렵하라\n"
   ]
  },
  {
   "cell_type": "code",
   "execution_count": 6,
   "metadata": {
    "collapsed": false
   },
   "outputs": [],
   "source": [
    "## Task 1.5.4 x에 -9, y에 1/2을 할당하자 다음 표현식의 값을 예측해보고, 실제 이 표현식을 입력하여 예측한 결과가 맞는지 알아보자.\n",
    "\n"
   ]
  },
  {
   "cell_type": "code",
   "execution_count": 7,
   "metadata": {
    "collapsed": false
   },
   "outputs": [],
   "source": [
    "## Task 1.5.5: 집합 {1,2,3,4,5}에 대한 콤프리헨션을 작성, 처음 다섯개의 정소의 제곱값으로 이루어진 집합\n"
   ]
  },
  {
   "cell_type": "code",
   "execution_count": 8,
   "metadata": {
    "collapsed": false
   },
   "outputs": [],
   "source": [
    "## Task 1.5.6: 집합 {0,1,2,3,4} 에 대한 컴프리헨션을 작성해 보자. 이 컴프리헨션의 값은 2^0부터 시작하여 \n",
    "## 처음 다섯개의 2의 거듭 제곱으로 구성된 집합이다\n"
   ]
  },
  {
   "cell_type": "code",
   "execution_count": 9,
   "metadata": {
    "collapsed": false
   },
   "outputs": [],
   "source": [
    "## Task 1.5.7: {x*y for x in {1,2,3} for y in {2,3,4}} 의 값은 7개의 원소로 구성된 집합니다.\n",
    "## {1,2,3} 과 {2,3,4}를 원소가 3개인 다른 두 개의 집합으로 바꾸어 컴프리헨션 결과가 9개 원소로 이루어진 집합이 되게 해보자.\n"
   ]
  },
  {
   "cell_type": "code",
   "execution_count": 10,
   "metadata": {
    "collapsed": false
   },
   "outputs": [],
   "source": [
    "## Task 1.5.8: 앞의 컨프리헨션에서 {1,2,3}과 {2,3,4}을 두 개의 서로 겹치지 않는 (disjoint) 3개의 원소로 구성된 집합으로 \n",
    "## 대체하여 결과가 5개의 원소로 이루어진 집합이 되게 해보자\n"
   ]
  },
  {
   "cell_type": "code",
   "execution_count": 11,
   "metadata": {
    "collapsed": false
   },
   "outputs": [],
   "source": [
    "## Task 1.5.9: 집합 S와 T는 할당된 집합이라고 가정하자. 교집합 연사자 &를 사용하지 않고 S에 대한 컴프리헨션을 작성하여 그 결과\n",
    "## 값이 S 와 T의 교집합이 되게 해보자. 힌트 : 컴프리헨션의 마지막에 필터를 사용하여 멤버십을 테스트 하면 된다.\n",
    "## S = {1,2,3,4} 와 T = {3,4,5,6}을 사용하여 작성한 컴프리헨션을 테스트 해보자\n"
   ]
  },
  {
   "cell_type": "code",
   "execution_count": 12,
   "metadata": {
    "collapsed": false
   },
   "outputs": [],
   "source": [
    "## Task 1.5.10: 값이 List [20, 10, 15, 75] 내 원소들의 평균이 되는 표현식을 작성 하여라\n"
   ]
  },
  {
   "cell_type": "code",
   "execution_count": 13,
   "metadata": {
    "collapsed": false
   },
   "outputs": [],
   "source": [
    "## Task 1.5.11: 리스트 ['A', 'B', 'C']와 [1,2,3]에 대해 이중 리스트 컴프리헨션을 작성하여라\n",
    "## 이때, 컴프리헨션의 결과 값은 모등 가능한 2-원소 리스트 [문자, 숫자]로 구성된 리스트이다.\n",
    "## 다시말해, 결과 값은 다음과 같다\n",
    "## ['A', 1], ['A', 2] ... ['C', 3]\n"
   ]
  },
  {
   "cell_type": "code",
   "execution_count": 14,
   "metadata": {
    "collapsed": false
   },
   "outputs": [],
   "source": [
    "## Task 1.5.12: LofL에 어떤 리스트가 할당된다고 가정해 보자. 이때 할당되는 리스트의 원소들은 숫자들의 리스트이다.\n",
    "## 모든 리스트에 있는 모든 숫자들의 합을 평가하는 표현식을 작성하라. 이때, 표현식은 다음 형태를 가지며 \n",
    "## sum([sum(...\n",
    "## 하나의 컴프리헨션을 포함한다 [[.25, .75, .1], [-1, 0], [4, 4, 4, 4]]을 LofL에 할당한 후 작성한 표현식을 테스트 해보자.\n",
    "## 작성한 표련식은 임의 길이의 리스트에 대해 동작해야 한다.\n"
   ]
  },
  {
   "cell_type": "code",
   "execution_count": 15,
   "metadata": {
    "collapsed": false
   },
   "outputs": [],
   "source": [
    "## Task 1.5.13: 할당문 왼쪽에 있는 리스트의 길이가 할당문 오른쪽 리스트의 길이와 일치하지 않을 때 무슨일이 생기는지 확인\n"
   ]
  },
  {
   "cell_type": "code",
   "execution_count": 16,
   "metadata": {
    "collapsed": false
   },
   "outputs": [],
   "source": [
    "## Task 1.5.14: S를 정수의 집합, 예를 들어, {-4,-2,1,2,5,0}이라 하자. 결과 값이 3-원소 터플 (i,j,k)의 리스트인 3중 컴프리헨션을\n",
    "## 작성해 보자. 이때, i, j, k는 그 합이 영이 되는 S의 원소들이다\n"
   ]
  },
  {
   "cell_type": "code",
   "execution_count": 17,
   "metadata": {
    "collapsed": false
   },
   "outputs": [],
   "source": [
    "## Task 1.5.15:앞의 Task의 컴프리헨션을 수정하여 그 결과 리스트가 (0,0,0)을 포함하지 않게 해보자. 힌트 : 필터 추가 \n"
   ]
  },
  {
   "cell_type": "code",
   "execution_count": 18,
   "metadata": {
    "collapsed": false
   },
   "outputs": [],
   "source": [
    "## 1.5.16: 표현식을 더 수정하여 그 결과 리스트가 첫 번째 터플을 제외한 모든 다른 터플을 포함하지 않게 해보자.\n"
   ]
  },
  {
   "cell_type": "code",
   "execution_count": 19,
   "metadata": {
    "collapsed": false
   },
   "outputs": [],
   "source": [
    "## Task 1.5.17: 어떤 리스트 L에 대해, len(L)과 len(list(set(L)))이 서로 다르 L의 예를 찾아보자.\n",
    "#len([0,0,1,1])\n",
    "#len(set([0,0,1,1]))"
   ]
  },
  {
   "cell_type": "code",
   "execution_count": 20,
   "metadata": {
    "collapsed": false
   },
   "outputs": [],
   "source": [
    "## Task 1.5.18: range(n)의 형태인 range에 대해 컴프리헨션을 작성해보자. 이때 컴프리헨션의 값은 1부터 99 까지 홀수들의 집합이다\n"
   ]
  },
  {
   "cell_type": "code",
   "execution_count": 21,
   "metadata": {
    "collapsed": false
   },
   "outputs": [],
   "source": [
    "## Task 1.5.19: 알파벳의 처름 다섯 문자로 구성된 리스트 ['A','B','C','D','E']를 L에 할당하다. \n",
    "## 다음에, 어떤 표현식에 L을 사용하여 그 값이 다음과 같이 되게 하자.\n",
    "## [(0, 'A'), (1,'B'), (2,'C'),(3,'D'),(4,'E')]\n",
    "## 사용하는 표현식은 range 와 zip을 사용해야 하고 컴프리헨션을 사용해서는 안된다.\n"
   ]
  },
  {
   "cell_type": "code",
   "execution_count": 22,
   "metadata": {
    "collapsed": false
   },
   "outputs": [],
   "source": [
    "## Task 1.5.20: 리스트 [10,25,40]와 [1,15,20]를 가지고 3-원소 리스트를 생성하는 컴프리헨션을 작성해 보자.\n",
    "## 이때, 3-원소 중 첫 번째는 10과 1의 합이고, 두 번째는 25오 15의 합이며, 세 번째는 40과 20의 합이다. 적성하는 표현식은\n",
    "## 리스트가 아리나 zip을 사용해야 한다.\n"
   ]
  },
  {
   "cell_type": "code",
   "execution_count": 23,
   "metadata": {
    "collapsed": false
   },
   "outputs": [],
   "source": [
    "### Task 1.5.21: dlist는 딕셔너리들로 구성된 리스트이고 k 는 dlist의 모든 딕셔너리에 나타난는 키라고 하자. dlist에 대한 컴프리헨션을 \n",
    "## 작성해보자 이때, 결과 리스트의 i 번째 원소는 dlist의 i 번째 딕셔너리의 키 k에 대응 하는 값이다.\n",
    "## 작성한 컴프리 헨션을 테스트 해보자. 다음은 테스트 데이터의 예이다.\n"
   ]
  },
  {
   "cell_type": "code",
   "execution_count": null,
   "metadata": {
    "collapsed": true
   },
   "outputs": [],
   "source": [
    "## Task 1.5.22: Task 1.5.21의 컴프리헨션을 수정하여 k 가 일부 딕셔너리에 나타나지 않을 수 있는 경우를 처리하게 해보자.\n",
    "## 컴프리헨션 결과 리스트의 i 번째 원소는 만약 dlist의 i 번째 딕셔너리가 키 k를 포함하면 k 에 대응 하는 그 딕셔너리의 값이고,\n",
    "## 그렇지 않으면 'NOT Present' 가 된다. \n",
    "## 작성한 컴피리헨션을 k = 'Bilbo' 와 k = 'Frodo'를 사용하고 다음의 딕셔너리 리스트를 이용하여 테스트 해보자.\n",
    "## dlist = [{'Bilbo':'Ian' ,'Frodo':'Elijah'}, {'Bilbo':'Martin','Thorin':'Richard'}]\n"
   ]
  },
  {
   "cell_type": "code",
   "execution_count": 25,
   "metadata": {
    "collapsed": false
   },
   "outputs": [],
   "source": [
    "## Task 1.5.23: range를 사용하여 그 결과 값이 딕셔너리인 컴프리헨션을 작성해 보자. 키는 0 에서 99 까지의 정수이고 키에 대응 하는 \n",
    "## 값은 그 키의 제곱이 되어야 한다.\n"
   ]
  },
  {
   "cell_type": "code",
   "execution_count": 26,
   "metadata": {
    "collapsed": false
   },
   "outputs": [],
   "source": [
    "## Task 1.5.24: 변수 D에 어떤 집합을 할당해 보자. D = {'red', 'white', 'blue'}. 그 다음, D 에 대한 항등 함수를 나타내는 \n",
    "## 딕셔너리를 평가하는 컴프리헨션을 작성해 보자\n"
   ]
  },
  {
   "cell_type": "code",
   "execution_count": 27,
   "metadata": {
    "collapsed": false
   },
   "outputs": [],
   "source": [
    "## Task 1.5.25: 변수 Base=10, dligits=set(range(base))를 사용하여 딕셔너리 컴프리헨션을 작성해보자. 이 컴프리헨션은 \n",
    "## 0와 999 사이의 각 정수를 10진수로 표시한 정수의 각 자리를 나타내는 세 개의 자릿수로 이루어진 리스트에 매핑한다. 이 컴프리헨션의 결과는\n",
    "## 다음과 같다. \n",
    "## {0 : [0,0,0], 1 : [0,0,1], ... 999 : [9,9,9]}\n",
    "## 작성한 표현식은 사용한 수 체계의 기수가 무엇이든 상관없이 동작해야 한다. 예를 들어, 변수 Base에 2를 할당하고 {0,1}을 digits에\n",
    "## 할당할 경우, 컴프리헨션의 결과값은 다음과 같아야 한다.\n",
    "## {0 : [0,0,0], ... , 7 : [1,1,1]}\n",
    "\n",
    "\n"
   ]
  },
  {
   "cell_type": "code",
   "execution_count": 28,
   "metadata": {
    "collapsed": false
   },
   "outputs": [],
   "source": [
    "## Task 1.5.6: 어떤 직원들의 ID(0에서 n-1까지 정수들의 부분 집합)를 급여에 매핑하는 딕셔너리를 d 라고 하자.\n",
    "## 그리고 L은 n-원소 리스트이고, 이중 i 번째 원소는 직원 번호 i의 이름이라고 하자. 직원 이름을 급여에 매핑하는 딕셔너리가 되는\n",
    "## 컴프리헨션을 작성해 보자. 이때, 직원 이름은 모두 다르다고 가정할 수 있다. 하지만, 모든 직원 ID 가 d 에 있는 것은 아니다.\n",
    "## 작성한 컴프리헨션을 다음 데이터를 사용하여 테스트해보자.\n",
    "\n"
   ]
  },
  {
   "cell_type": "code",
   "execution_count": 29,
   "metadata": {
    "collapsed": false
   },
   "outputs": [],
   "source": [
    "## Task 1.5.27: twice(z)의 정의를 타이핑하여 입력하자. 정의가 입력된 후 생략 부호(ellipsis)가 나타날 것이다.\n",
    "## 이때, 엔터키를 누르자. 그다음에, 어떤 실제 입력값을 가지고 프로시저를 호출해 보자. 재미삼아 문자열 또는 리스트를 사용해 보자.\n",
    "## 마지막으로, 파이썬이 변수 z가 포함된 표현식을 평가하게 하여 z가 어느 값에도 바인딩되어 있지 않음을 확인해보자.\n",
    "\n",
    "\n",
    "#twice('t')\n",
    "#twice([1,2,3])\n",
    "#z == twice(1)"
   ]
  },
  {
   "cell_type": "code",
   "execution_count": 30,
   "metadata": {
    "collapsed": false
   },
   "outputs": [],
   "source": [
    "## Task 1.5.28: 다음과 같이 명시된 한 줄로 된 프로시저, nextInts(L)을 정의해 보자.\n",
    "## input: 정수들의 리스트 L\n",
    "## output : 정수들의 리스트, 이 리스트의 i 번째 원소는 L의 i 번째 원소보다 1 더 크다.\n",
    "## example. 입력 [1,5,7], 출력 [2,6,8]\n",
    "\n"
   ]
  },
  {
   "cell_type": "code",
   "execution_count": 31,
   "metadata": {
    "collapsed": false
   },
   "outputs": [],
   "source": [
    "## Task 1.5.29: 다음과 같이 명시된 한 줄로된 프로시져, cubs(L)을 정의해 해보자.\n",
    "## input: 숫자들의 리스트\n",
    "## output: 숫자들의 리스트, 이 리스트의 i 번째 원소는 L의 i 번째 원소의 세제곱\n",
    "## example. 입력 [1,2,3], 출력 [1,8,27]\n"
   ]
  },
  {
   "cell_type": "code",
   "execution_count": 32,
   "metadata": {
    "collapsed": false
   },
   "outputs": [],
   "source": [
    "## Task 1.5.30: 다음 스펙을 가지는 한 줄로 된 프로시저, dict2list(dct, keylist)을 정의해보자.\n",
    "## input: 딕셔너리 dct, dct의 키들로 구성된 리스트 keylist\n",
    "## output: 리스트 L, 여기서 i = 0,1,2,...,len(keylist)-1에 대해 L[i]=dct[keylist[i]]\n",
    "## example: 입력 dct={'a':'A', 'b':'B', 'c':'C'}, keylist=['b','c','a'], 출력 ['B','C','A']\n",
    "\n"
   ]
  },
  {
   "cell_type": "code",
   "execution_count": 33,
   "metadata": {
    "collapsed": false
   },
   "outputs": [],
   "source": [
    "## Task 1.5.31: 다음과 같이 명시된 한 줄로 된 프로시저,  list2dict(L, keylist)을 정의해 보자.\n",
    "## Input: 리스트 L, 변경 불가능한 원소들의 리스트\n",
    "## Output: i = 0,1,2,...,len(L)-1에 대해, keylist[i]를 L[i]에 매핑하는 딕셔너리\n",
    "## Example: 입력 L = ['A', 'B', 'C'], keylist=['a','b','c']\n",
    "##          출력 {'a':'A', 'b':'B', 'c':'C'}\n",
    "## 힌트 zip 또는 rang에 대해 컴프리헨션 적용\n",
    "\n"
   ]
  },
  {
   "cell_type": "code",
   "execution_count": 34,
   "metadata": {
    "collapsed": false
   },
   "outputs": [],
   "source": [
    "## Task 1.5.32: 다음 스펙을 가지는 프로시저, all_3_digit_numbers(base, digits)을 작성해보자.\n",
    "## input: 양의 정수 base, 원소가 {0,1,2,...,base-1}인 집합 digits\n",
    "## output: 기수가 base 인 3개의 자릿수로 이루어진 모든 숫자들의 집합\n",
    "\n"
   ]
  },
  {
   "cell_type": "code",
   "execution_count": 35,
   "metadata": {
    "collapsed": false
   },
   "outputs": [],
   "source": [
    "## Task 1.6.1: 다음 명령을 사용하여 math 모듈을 임포트 해보자\n",
    "\n",
    "#help(math)\n",
    "#math.sqrt(-1)\n",
    "#math.cos(math.pi)\n"
   ]
  },
  {
   "cell_type": "code",
   "execution_count": 36,
   "metadata": {
    "collapsed": false
   },
   "outputs": [],
   "source": [
    "## Task 1.6.2: 모듈 random은 {a, a+1,...,b} 사이에서 균등하고 랜덤하게 선택된 점수를 리턴하는 프로시저 randint(a,b)를 정의한다.\n",
    "## 다음 명령을 사용하여 이 프로시저를 임포트해보자\n"
   ]
  },
  {
   "cell_type": "code",
   "execution_count": 37,
   "metadata": {
    "collapsed": false
   },
   "outputs": [],
   "source": [
    "## Task 1.6.3: Lab 1.5의 Task 1.5.30와 1.5.31에서, 프로시저 dict2list(dct, keylist)와 list2dict(L, Keylist)을 작성하였다\n",
    "## http:://resources.codingthematrix.com 에서 dictutil.py 파일을 다운로드\n"
   ]
  },
  {
   "cell_type": "code",
   "execution_count": 38,
   "metadata": {
    "collapsed": false
   },
   "outputs": [],
   "source": [
    "## Task 1.6.4: dictutil.py를 수정하여 다음 스펙을 만족하는 프로시저 list2dict(L)을 정의해보자\n",
    "## Input: 리스트 L\n",
    "## Output: i = 0,1,2,...,len(L)-1에 대해 i를  L[i]에 매필하는 딕셔너리\n",
    "## reload(dictutil) 사용 하기\n"
   ]
  },
  {
   "cell_type": "code",
   "execution_count": 39,
   "metadata": {
    "collapsed": false
   },
   "outputs": [],
   "source": [
    "## Task 1.6.5: for-루프를 파이썬에 타이핑.\n"
   ]
  },
  {
   "cell_type": "code",
   "execution_count": 40,
   "metadata": {
    "collapsed": false
   },
   "outputs": [],
   "source": [
    "## Task 1.6.6: 주어진 문자열(문서)들의 리스트에 대해 딕셔너리를 리턴하는 프로시저.\n",
    "## makeInverseIndex(strlist)을 작성해 보자. 이때, 반화되는 딕셔너리는 각 단어를 그 단어가 나타나는 문서들의 문서 번호로 \n",
    "## 이루어진 집합으로 매핑한다. 이러한 딕셔너리를 역 인텍스 자료 구조하고 한다. (힌트: enumerate)\n",
    "\n"
   ]
  },
  {
   "cell_type": "code",
   "execution_count": 41,
   "metadata": {
    "collapsed": false
   },
   "outputs": [],
   "source": [
    "### Task 1.6.7: 역 인덱스와 질의 단어들의 리스트를 받아 들여 질의에 들어 있는 임의의 단어를 포함하는 모든 문서들을 지정하는 문서 \n",
    "## 번호들의 집합을 리턴하는 프로시저\n"
   ]
  },
  {
   "cell_type": "code",
   "execution_count": 42,
   "metadata": {
    "collapsed": true
   },
   "outputs": [],
   "source": [
    "### Task 1.6.8: 역 인덱스와 질의 단어들의 리스트를 받아 들려 질의에 들어 있는 모든 단어들을 포함하는 모든 문서들을 지정하는 문서\n",
    "## 번호들의 집합을 리턴하는 프로시저\n"
   ]
  },
  {
   "cell_type": "code",
   "execution_count": 43,
   "metadata": {
    "collapsed": false
   },
   "outputs": [],
   "source": [
    "## Problem 1.8.1: Increments(L)\n",
    "## input: 숫자들의 리스트\n",
    "## output: i 번째 원소는 L의 i 번째 원소에 1이 더해진 숫자들의 리스트\n"
   ]
  },
  {
   "cell_type": "code",
   "execution_count": 44,
   "metadata": {
    "collapsed": false
   },
   "outputs": [],
   "source": [
    "## Problem 1.8.1: cubes(L)\n",
    "## input: 숫자들의 리스트\n",
    "## output: 숫자들의 리스트, 이 리스트의 i 번째 원소는 L의 i 번째 원소의 세제곱\n",
    "## example. 입력 [1,2,3], 출력 [1,8,27]\n",
    "\n"
   ]
  },
  {
   "cell_type": "code",
   "execution_count": 45,
   "metadata": {
    "collapsed": false
   },
   "outputs": [],
   "source": [
    "## Problem 1.8.3: tuple_sum(A,B)\n",
    "## input: 동일한 길이의 리스트 A와 B, 각 리스트의 원소 각각은 숫자들의 쌍 (x,y)\n",
    "## output: 쌍 (x,y)의 리스트. 이 리스트의 i 번째 쌍의 첫 번째 원소는 A 내 i 번째 쌍의 첫 번째 원소와 B 내 i 번째 쌍의 첫 번째 \n",
    "## 원소의 합이다.\n",
    "## Example: 주어진 리스트 [(1,2),(10,20)]와 [(3,4),(30,40)]에 대해. [(4,6),(40,60)] 을 리턴한다.\n",
    "\n"
   ]
  },
  {
   "cell_type": "code",
   "execution_count": 46,
   "metadata": {
    "collapsed": false
   },
   "outputs": [],
   "source": [
    "### Problem 1.8.4: inv_dict(d)\n",
    "## input: 가역함수 f를 나타내는 딕셔너리 d\n",
    "## output: 함수 f의 역함수를 나타내는 딕셔너리, 이 딕셔너리의 키는 d의 값이고 그 값은 d의 키이다.\n",
    "## Example: 주어진 영어-프랑스어 딕셔너리에 대해\n",
    "## {'thank you': 'merci', 'goodbye':'au revoir'}\n",
    "## 프랑스어-영어 딕셔너리를 리턴한다.\n",
    "## {'merci' : 'thank you', 'au revoir' : 'goodbye'}\n",
    "\n"
   ]
  },
  {
   "cell_type": "code",
   "execution_count": 47,
   "metadata": {
    "collapsed": false
   },
   "outputs": [],
   "source": [
    "## Problem 1.8.5 : 먼저 다음 스펙을 지키는 프로시저, row(p, n)을 작성해 보자.\n",
    "## input: 정수 p, n\n",
    "## output: n-원소 리스트 이 리스트의 원소 i는 p+i\n",
    "## example: 주어진 p=10, n=4에 대해 [10,11,12,13]\n",
    "\n",
    "\n",
    "\n",
    "### 다음에 그 결과 값이 20-원소 리스트들의 15-원소 리스트인 컴프리센션을 작성해보다. 이때 i 번째 리스트의 j 번째 원소는 \n",
    "## i+j 이다. row(p,n)를 컴프리헨션에 사용할 수 있다.\n",
    "\n",
    "### 마지막으로, 동일한 컴프리센션을 row(p,n)를 사용하지 않고 작성해보자. (힌트 row(p,n)에 대한 호출을 row(p,n)의 몸체를\n",
    "## 형성하는 컴프리헨션으로 대체)"
   ]
  }
 ],
 "metadata": {
  "kernelspec": {
   "display_name": "Python 3",
   "language": "python",
   "name": "python3"
  },
  "language_info": {
   "codemirror_mode": {
    "name": "ipython",
    "version": 3
   },
   "file_extension": ".py",
   "mimetype": "text/x-python",
   "name": "python",
   "nbconvert_exporter": "python",
   "pygments_lexer": "ipython3",
   "version": "3.5.2"
  }
 },
 "nbformat": 4,
 "nbformat_minor": 2
}
