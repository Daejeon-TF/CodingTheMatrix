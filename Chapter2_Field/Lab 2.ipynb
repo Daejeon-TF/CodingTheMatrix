{
 "cells": [
  {
   "cell_type": "code",
   "execution_count": 500,
   "metadata": {
    "collapsed": true
   },
   "outputs": [],
   "source": [
    "## Lab 2 by YK"
   ]
  },
  {
   "cell_type": "code",
   "execution_count": 2,
   "metadata": {
    "collapsed": false
   },
   "outputs": [],
   "source": [
    "## Task 2.4.1 변수 S에 위의 복수수들롸 구성된 리스트 혹은 집합을 할당하자.\n",
    "## Plotting 모듈 임포트\n",
    "from plotting import plot ##http://resources.codingthematrix.com/ 애서 plotting.py 다운 받기"
   ]
  },
  {
   "cell_type": "code",
   "execution_count": 162,
   "metadata": {
    "collapsed": false
   },
   "outputs": [],
   "source": [
    "S = {2+2j, 3+2j, 1.75+1j, 2+1j,2.25+1j,2.5+1j,2.75+1j,3+1j,3.25+1j}\n",
    "plot(S,4) #4 가 범위 넣는 변수 임"
   ]
  },
  {
   "cell_type": "code",
   "execution_count": 9,
   "metadata": {
    "collapsed": false
   },
   "outputs": [],
   "source": [
    "## Task 2.4.3: 컴프리헨션을 사용하여 새로운 그래프를 생성해 보자, 이 그래프는 S의 원소 각각에 1+2i 를 더하여 엊어진 점들의 집합\n",
    "plot({1+2j + z for z in S},4)"
   ]
  },
  {
   "cell_type": "code",
   "execution_count": 10,
   "metadata": {
    "collapsed": true
   },
   "outputs": [],
   "source": [
    "## Quiz 2.4.4: 복소수의 집합 S의 \"left-eye\"는 2+2i에 위치. f(z)=z_0 + z에 의해 \"left-eye\"를 원점으로 평행 이동하는 z_0 값은 무엇인가?\n",
    "## A: -2 - 2i"
   ]
  },
  {
   "cell_type": "code",
   "execution_count": 11,
   "metadata": {
    "collapsed": true
   },
   "outputs": [],
   "source": [
    "## Problem 2.4.5: 서로 다른 z_1, z_2에 대해 다음을 보여라\n",
    "## z_1을 z_2로 매핑히는 평행 이동이 있다.  z_2 - z1 + z1\n",
    "## z_2을 z_1로 매핑히는 평행 이동이 있다.  z_1 - z2 + z2\n",
    "## 둘다 매핑 하는 평행 이동은 없다. z_2 - z1 + z1 != z_1 - z2 + z2"
   ]
  },
  {
   "cell_type": "code",
   "execution_count": 12,
   "metadata": {
    "collapsed": true
   },
   "outputs": [],
   "source": [
    "## Problem 2.4.6: z_0 = -3+3i 를 나타내는 그림을 그려보자"
   ]
  },
  {
   "cell_type": "code",
   "execution_count": 14,
   "metadata": {
    "collapsed": false
   },
   "outputs": [],
   "source": [
    "## Task 2.4.7: Task 2.4.3 을 사용하여 \"My scaled points\" 라는 이름의 새로운 그래프를 생성해보자. \n",
    "## 새로운 그래프의 점들은 S의 각 복소소를 이등분 한 것이다.\n",
    "plot({z/2 for z in S},4)"
   ]
  },
  {
   "cell_type": "code",
   "execution_count": 18,
   "metadata": {
    "collapsed": false
   },
   "outputs": [],
   "source": [
    "## Task 2.4.8: \"Rotated and Scaled\" 라는 새로운 그래프를 사용해 보자. 이 그래프는 S의 점들을 90도 회전하고 1/2 만큼 스케일링 한것이다. \n",
    "plot({z*-1j/2 for z in S},4)"
   ]
  },
  {
   "cell_type": "code",
   "execution_count": 20,
   "metadata": {
    "collapsed": false
   },
   "outputs": [],
   "source": [
    "## Task 2.4.9: \"Rotated and Scaled\" 라는 새로운 그래프를 사용해 보자. 이 그래프는 S의 점들을 90도 회전하고 1/2 만큼 스케일링 한것이다. \n",
    "## 아래쪽 1칸 그리고 오른쪽 2칸\n",
    "plot({(z*-1j/2) + 2 - 1j for z in S},4)"
   ]
  },
  {
   "cell_type": "code",
   "execution_count": 28,
   "metadata": {
    "collapsed": true
   },
   "outputs": [],
   "source": [
    "## Task 2.4.10: image 모듈\n",
    "from image import file2image\n",
    "from image import color2gray"
   ]
  },
  {
   "cell_type": "code",
   "execution_count": 42,
   "metadata": {
    "collapsed": false
   },
   "outputs": [
    {
     "data": {
      "text/plain": [
       "166"
      ]
     },
     "execution_count": 42,
     "metadata": {},
     "output_type": "execute_result"
    }
   ],
   "source": [
    "img_data = file2image('img01.png') ## 3채널 컬러 이미지\n",
    "gimg_data = color2gray(img_data) ## (0,0) 좌하단 -> (witdh-1, height-1) 우상단\n",
    "#len(gimg_data[1])"
   ]
  },
  {
   "cell_type": "code",
   "execution_count": 174,
   "metadata": {
    "collapsed": false
   },
   "outputs": [],
   "source": [
    "pts = {x + y*1j for y in range(len(gimg_data)) for x in range(len(gimg_data[1])) if gimg_data[y][x] < 120}"
   ]
  },
  {
   "cell_type": "code",
   "execution_count": 131,
   "metadata": {
    "collapsed": false
   },
   "outputs": [],
   "source": [
    "#plot(pts,255)\n",
    "plot({z for z in pts},255)"
   ]
  },
  {
   "cell_type": "code",
   "execution_count": 134,
   "metadata": {
    "collapsed": false
   },
   "outputs": [
    {
     "data": {
      "text/plain": [
       "{0j, (-1-1j), (1+1j)}"
      ]
     },
     "execution_count": 134,
     "metadata": {},
     "output_type": "execute_result"
    }
   ],
   "source": [
    "## Task 2.4.11: f(z) S의 점들을 원점에 중심을 둔 점들의 집합이 되도록 평행 이동\n",
    "def f(z) :\n",
    "    \n",
    "    #sum_x = sum({x.real for x in z})\n",
    "    #mean_x = sum_x / len(z)\n",
    "    \n",
    "    #sum_y = sum({x.imag for x in z})\n",
    "    #mean_y = sum_y / len(z) \n",
    "\n",
    "    cen = sum(z)/len(z)\n",
    "    return {xy - cen for xy in z} #mean_x + mean_y*1j #{xy - (mean_x + mean_y*1j) for xy in z}\n",
    "\n",
    "f({1+1j, 2+2j,3+3j})"
   ]
  },
  {
   "cell_type": "code",
   "execution_count": 179,
   "metadata": {
    "collapsed": false
   },
   "outputs": [],
   "source": [
    "## Task 2.4.12: pts를 f(z)에 실행\n",
    "Tpts = f(pts)\n",
    "plot(Tpts, 255)"
   ]
  },
  {
   "cell_type": "code",
   "execution_count": 161,
   "metadata": {
    "collapsed": false
   },
   "outputs": [],
   "source": [
    "## Task 2.4.17: math import, e pi 사용\n",
    "import math\n",
    "e = math.e\n",
    "pi = math.pi\n",
    "\n",
    "#e**1*pi*1j/4\n",
    "z = {(e**(2*pi*1j/20))**n for n in range(20)}\n",
    "plot(z)"
   ]
  },
  {
   "cell_type": "code",
   "execution_count": 172,
   "metadata": {
    "collapsed": false
   },
   "outputs": [],
   "source": [
    "## Task 2.4.18: Task 2.4.1 S를 pi/4 만큼 회전하는 컴프리헨션\n",
    "\n",
    "S_ = {z*e**(pi*1j/4) for z in S}\n",
    "plot(S_)GF"
   ]
  },
  {
   "cell_type": "code",
   "execution_count": 178,
   "metadata": {
    "collapsed": true
   },
   "outputs": [],
   "source": [
    "## Task 2.4.19: 2.4.10 의 pts를 pi/4 만큼 회전\n",
    "pts_ = {z*e**(pi*1j/4) for z in pts}\n",
    "plot(pts_,255)"
   ]
  },
  {
   "cell_type": "code",
   "execution_count": 185,
   "metadata": {
    "collapsed": true
   },
   "outputs": [],
   "source": [
    "## Task 2.4.20: 이미지가 중심에 있고, pi/4 만큼 회전하며, 1/2 만큼 스케일릴 한다.\n",
    "\n",
    "Tpts = f(pts) #중심으로 가져 오기\n",
    "Rpts = {z*e**(pi*1j/4) for z in Tpts} #돌리기\n",
    "Spts = {z*(1/2) for z in Rpts} #줄기이\n",
    "plot(Spts, 255)"
   ]
  },
  {
   "cell_type": "code",
   "execution_count": 186,
   "metadata": {
    "collapsed": true
   },
   "outputs": [],
   "source": [
    "from GF2 import one"
   ]
  },
  {
   "cell_type": "code",
   "execution_count": 187,
   "metadata": {
    "collapsed": false
   },
   "outputs": [
    {
     "data": {
      "text/plain": [
       "one"
      ]
     },
     "execution_count": 187,
     "metadata": {},
     "output_type": "execute_result"
    }
   ],
   "source": [
    "one*one"
   ]
  },
  {
   "cell_type": "code",
   "execution_count": 336,
   "metadata": {
    "collapsed": false
   },
   "outputs": [
    {
     "data": {
      "text/plain": [
       "['VEVLZDLVEZ ',\n",
       " 'UFUKYCKUFY!',\n",
       " 'XGXJ!BJXG!Y',\n",
       " 'WHWI AIWH Z',\n",
       " 'RARP!HPRA!!',\n",
       " 'QBQO!GOQB!!',\n",
       " 'TCTN!FNTC!!',\n",
       " 'SDSM!EMSD!!',\n",
       " '!M!DRLD!MRS',\n",
       " '!N!CQKC!NQT',\n",
       " '!O!BTJB!OTQ',\n",
       " '!P!ASIA!PSR',\n",
       " 'ZIZHVPHZIVW',\n",
       " 'YJYGUOGYJUX',\n",
       " '!K!FXNF!KXU',\n",
       " ' L EWME LWV',\n",
       " 'FUF!JT!FUJK',\n",
       " 'EVE IS EVIL',\n",
       " 'HWHZLRZHWLI',\n",
       " 'GXGYKQYGXKJ',\n",
       " 'BQB!NX!BQNO',\n",
       " 'ARA!MW!ARMP',\n",
       " 'DSD!PV!DSPM',\n",
       " 'CTC!OU!CTON',\n",
       " 'N!NTB!TN!BC']"
      ]
     },
     "execution_count": 336,
     "metadata": {},
     "output_type": "execute_result"
    }
   ],
   "source": [
    "## Problem 2.5.1: 11-심볼 메세지를 다음과 같이 암호화 하였다.\n",
    "## 각 심볼은 0과 26사이의 숫자 {A-> 0, B -> 1, ... , Z->25}\n",
    "## 5-비트 이진 시권스 {0->00000, 1->00001, ... , 25->11010}\n",
    "## 5개의 랜덤 비트로 구성된 동일한 시퀀스를 11번 복사한 것이다.\n",
    "## 암호문 10101, 00100, 10101, 01011, 11001, 00011, 01011, 10101 , 00100, 11001, 11010\n",
    "\n",
    "def f_bin(n) : \n",
    "    step = 0\n",
    "    pad = ['0' for step in range(5 - len(bin(n)[2:]))]\n",
    "    return ''.join(pad) + bin(n)[2:]\n",
    "\n",
    "def f_chr(b) : \n",
    "    c_n = int(b,2) \n",
    "    \n",
    "    if c_n <= 25 : c = chr(c_n + 65)\n",
    "    else : \n",
    "        if c_n == 26 : c = ' '\n",
    "        else : c = '!'\n",
    "    \n",
    "    return c\n",
    "\n",
    "def f_xor(x,y) : \n",
    "    xor = [int(x[I],2)^int(y[I],2) for I in range(5)]\n",
    "    xor_str = [str(xor[i]) for i in range(5)]\n",
    "    return \"\".join(xor_str)\n",
    "\n",
    "def f_decode(code_list, key_list) : \n",
    "    decode_list = [f_chr(f_xor(code_list[i], key_list)) for i in range(11)]   \n",
    "    return \"\".join(decode_list)\n",
    "\n",
    "\n",
    "\n",
    "code_list = ['10101', '00100', '10101', '01011', '11001', '00011', '01011', '10101' , '00100', '11001', '11010']\n",
    "key_list = [f_bin(n) for n in range(25)]\n",
    "\n",
    "[f_decode(code_list, key_list[k]) for k in range(25)]"
   ]
  },
  {
   "cell_type": "code",
   "execution_count": 391,
   "metadata": {
    "collapsed": false
   },
   "outputs": [
    {
     "data": {
      "text/plain": [
       "{1, 2, 4, 5, 7, 8}"
      ]
     },
     "execution_count": 391,
     "metadata": {},
     "output_type": "execute_result"
    }
   ],
   "source": [
    "## problem 2.7.1: my_filter(L, num)\n",
    "\n",
    "def my_filter(L, num) : \n",
    "    \n",
    "    L_ = {x for x in L}\n",
    "    \n",
    "    [range_] = L[-1:]\n",
    "    num_ = {y*num for y in range(range_//num + 1)}\n",
    "    \n",
    "    return L_ - num_\n",
    "\n",
    "my_filter([1,2,3,4,5,6,7,8,9],3)"
   ]
  },
  {
   "cell_type": "code",
   "execution_count": 423,
   "metadata": {
    "collapsed": false
   },
   "outputs": [
    {
     "data": {
      "text/plain": [
       "[[1], [1, 2], [1, 2, 3]]"
      ]
     },
     "execution_count": 423,
     "metadata": {},
     "output_type": "execute_result"
    }
   ],
   "source": [
    "## problem 2.7.2: my_list(L)\n",
    "\n",
    "def my_list(L) : \n",
    "    return [L[0:i] for i in range(1,len(L)+1)]\n",
    "\n",
    "my_list([1,2,3])"
   ]
  },
  {
   "cell_type": "code",
   "execution_count": 434,
   "metadata": {
    "collapsed": false
   },
   "outputs": [
    {
     "data": {
      "text/plain": [
       "{0: 'apple', 1: 'banana'}"
      ]
     },
     "execution_count": 434,
     "metadata": {},
     "output_type": "execute_result"
    }
   ],
   "source": [
    "##Problem 2.7.3 : my_function_composition(f,g)\n",
    "\n",
    "f = {0:'a', 1:'b'}\n",
    "g = {'a':'apple', 'b':'banana'}\n",
    "\n",
    "f[0]\n",
    "g[f[0]]\n",
    "\n",
    "def my_function_composition(f,g) : \n",
    "    return { i : g[f[i]] for i in range(len(f))}\n",
    "\n",
    "my_function_composition(f,g)"
   ]
  },
  {
   "cell_type": "code",
   "execution_count": 438,
   "metadata": {
    "collapsed": false
   },
   "outputs": [
    {
     "data": {
      "text/plain": [
       "6"
      ]
     },
     "execution_count": 438,
     "metadata": {},
     "output_type": "execute_result"
    }
   ],
   "source": [
    "## Problem 2.7.4 : mySum(L)\n",
    "\n",
    "def mySum(L) : \n",
    "    \n",
    "    current = 0\n",
    "    for x in L:\n",
    "        current = x + current\n",
    "    return current\n",
    "\n",
    "L = [1,2,3]\n",
    "\n",
    "mySum(L)"
   ]
  },
  {
   "cell_type": "code",
   "execution_count": 440,
   "metadata": {
    "collapsed": false
   },
   "outputs": [
    {
     "data": {
      "text/plain": [
       "6"
      ]
     },
     "execution_count": 440,
     "metadata": {},
     "output_type": "execute_result"
    }
   ],
   "source": [
    "## Priblem 2.7.5 : my Product(L)\n",
    "\n",
    "def myProduct(L) :\n",
    "    \n",
    "    current = 1\n",
    "    for x in L:\n",
    "        current = x*current\n",
    "\n",
    "    return current\n",
    "\n",
    "L = [1,2,3]\n",
    "\n",
    "myProduct(L)"
   ]
  },
  {
   "cell_type": "code",
   "execution_count": 462,
   "metadata": {
    "collapsed": false
   },
   "outputs": [
    {
     "data": {
      "text/plain": [
       "1"
      ]
     },
     "execution_count": 462,
     "metadata": {},
     "output_type": "execute_result"
    }
   ],
   "source": [
    "## Problem 2.7.6 : myMin(L)\n",
    "\n",
    "def myMin(L):\n",
    "    \n",
    "    current = 2**16-1\n",
    "    for x in L:\n",
    "        if(x < current) : current = x\n",
    "        \n",
    "    return current\n",
    "\n",
    "L = [1,2,3]\n",
    "myMin(L) "
   ]
  },
  {
   "cell_type": "code",
   "execution_count": 449,
   "metadata": {
    "collapsed": false
   },
   "outputs": [
    {
     "data": {
      "text/plain": [
       "'myConcat'"
      ]
     },
     "execution_count": 449,
     "metadata": {},
     "output_type": "execute_result"
    }
   ],
   "source": [
    "## Problem 2.7.7 : myConcat(L)\n",
    "\n",
    "def myConcat(L) : \n",
    "    current = ''\n",
    "    for x in L :\n",
    "        current = current + x\n",
    "    return current\n",
    "\n",
    "L = ['my', 'Concat']\n",
    "myConcat(L)"
   ]
  },
  {
   "cell_type": "code",
   "execution_count": 457,
   "metadata": {
    "collapsed": false
   },
   "outputs": [
    {
     "data": {
      "text/plain": [
       "{1, 2, 3}"
      ]
     },
     "execution_count": 457,
     "metadata": {},
     "output_type": "execute_result"
    }
   ],
   "source": [
    "## Problem 2.7.8 : myUnion(L)\n",
    "\n",
    "def myUnion(L) :\n",
    "    \n",
    "    current = set() # {} 은 집합으로 초기화 허용 되지 않는다.\n",
    "    for x in L :\n",
    "        current = current | x\n",
    "    return current\n",
    "\n",
    "L = [{1},{1,2},{1,2,3}]\n",
    "myUnion(L)"
   ]
  },
  {
   "cell_type": "code",
   "execution_count": 467,
   "metadata": {
    "collapsed": false
   },
   "outputs": [
    {
     "data": {
      "text/plain": [
       "set()"
      ]
     },
     "execution_count": 467,
     "metadata": {},
     "output_type": "execute_result"
    }
   ],
   "source": [
    "## Problem 2.7.9 : 빈리스트 값\n",
    "\n",
    "mySum([])\n",
    "myProduct([])\n",
    "myMin([])\n",
    "myConcat([])\n",
    "myUnion([])"
   ]
  },
  {
   "cell_type": "code",
   "execution_count": 472,
   "metadata": {
    "collapsed": false
   },
   "outputs": [
    {
     "data": {
      "text/plain": [
       "(0.001+9j)"
      ]
     },
     "execution_count": 472,
     "metadata": {},
     "output_type": "execute_result"
    }
   ],
   "source": [
    "## Problem 2.7.10: \n",
    "(3+1j)+(2+2j)\n",
    "(-1+2j)+(1-1j)\n",
    "(2+0j)+(-3+.001j)\n",
    "4*(0+2j)+(.001+1j)"
   ]
  },
  {
   "cell_type": "code",
   "execution_count": 475,
   "metadata": {
    "collapsed": false
   },
   "outputs": [
    {
     "data": {
      "text/plain": [
       "(-0.9899924966004454+0.1411200080598672j)"
      ]
     },
     "execution_count": 475,
     "metadata": {},
     "output_type": "execute_result"
    }
   ],
   "source": [
    "## Problem 2.7.11:\n",
    "(e**1j)*(e**2j)\n",
    "e**3j"
   ]
  },
  {
   "cell_type": "code",
   "execution_count": 486,
   "metadata": {
    "collapsed": false
   },
   "outputs": [],
   "source": [
    "## Problem 2.7.12:\n",
    "\n",
    "L = [2+2j, 3+2j, 1.75+1j, 2+1j,2.25+1j,2.5+1j,2.75+1j,3+1j,3.25+1j]\n",
    "#plot(L)\n",
    "\n",
    "def transform(a,b,L):\n",
    "    \n",
    "    return [a*z + b for z in L]\n",
    "\n",
    "L_ = transform(2*e**(pi*1j/2), 1+1j, L)\n",
    "\n",
    "plot(L_,10)\n",
    "\n",
    "#b 실 허수부 각각 스케일링이 불가능"
   ]
  },
  {
   "cell_type": "code",
   "execution_count": 493,
   "metadata": {
    "collapsed": false
   },
   "outputs": [
    {
     "data": {
      "text/plain": [
       "0"
      ]
     },
     "execution_count": 493,
     "metadata": {},
     "output_type": "execute_result"
    }
   ],
   "source": [
    "## Problem 2.7.13;\n",
    "\n",
    "one + one + one + 0\n",
    "one*one + 0*one + 0*0 + one*one\n",
    "(one + one + one)*(one + one + one + one)"
   ]
  },
  {
   "cell_type": "code",
   "execution_count": 499,
   "metadata": {
    "collapsed": false
   },
   "outputs": [
    {
     "data": {
      "text/plain": [
       "0"
      ]
     },
     "execution_count": 499,
     "metadata": {},
     "output_type": "execute_result"
    }
   ],
   "source": [
    "## Problem 2.7.14:\n",
    "\n",
    "#c = b1, b1+b2\n",
    "#d = b2, b1+b2\n",
    "\n",
    "one\n",
    "one+0\n",
    "one+one\n",
    "\n",
    "# 만약 c = 1, 1 을 받았다면\n",
    "# b1 = 1, 1 + b2 에 따라 b2는 0으로 결정 된다."
   ]
  },
  {
   "cell_type": "code",
   "execution_count": null,
   "metadata": {
    "collapsed": true
   },
   "outputs": [],
   "source": []
  }
 ],
 "metadata": {
  "kernelspec": {
   "display_name": "Python 3",
   "language": "python",
   "name": "python3"
  }
 },
 "nbformat": 4,
 "nbformat_minor": 2
}
